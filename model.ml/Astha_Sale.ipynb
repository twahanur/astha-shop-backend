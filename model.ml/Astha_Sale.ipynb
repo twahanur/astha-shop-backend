{
  "cells": [
    {
      "cell_type": "markdown",
      "metadata": {
        "id": "G8d08Iu7IujZ"
      },
      "source": [
        "##Analysis for user experience\n"
      ]
    },
    {
      "cell_type": "code",
      "execution_count": null,
      "metadata": {
        "id": "Mpb7gVRsImbf"
      },
      "outputs": [
        {
          "ename": "",
          "evalue": "",
          "output_type": "error",
          "traceback": [
            "\u001b[1;31mRunning cells with '.venv (Python 3.13.5)' requires the ipykernel package.\n",
            "\u001b[1;31mInstall 'ipykernel' into the Python environment. \n",
            "\u001b[1;31mCommand: '\"f:/Project/Astha Shop/.venv/Scripts/python.exe\" -m pip install ipykernel -U --force-reinstall'"
          ]
        }
      ],
      "source": [
        "import numpy as np\n",
        "import pandas as pd\n"
      ]
    },
    {
      "cell_type": "code",
      "execution_count": null,
      "metadata": {
        "id": "57j6Kuc0zKuA"
      },
      "outputs": [],
      "source": [
        "images=pd.read_csv('/content/images.csv')"
      ]
    },
    {
      "cell_type": "code",
      "execution_count": null,
      "metadata": {
        "id": "pwOWtFHV1lfD"
      },
      "outputs": [],
      "source": [
        "images.head(110)"
      ]
    },
    {
      "cell_type": "code",
      "execution_count": null,
      "metadata": {
        "id": "0WcF-uJmwvO6"
      },
      "outputs": [],
      "source": [
        "sales=pd.read_csv('/content/Astha Sales.csv')"
      ]
    },
    {
      "cell_type": "code",
      "execution_count": null,
      "metadata": {
        "colab": {
          "base_uri": "https://localhost:8080/",
          "height": 354
        },
        "id": "bTtkBJoVw4QH",
        "outputId": "c8263bcc-9511-45ff-b31b-cdd6547731d1"
      },
      "outputs": [],
      "source": [
        "sales.head()"
      ]
    },
    {
      "cell_type": "code",
      "execution_count": null,
      "metadata": {
        "colab": {
          "base_uri": "https://localhost:8080/",
          "height": 1000
        },
        "id": "WihLTy9pw6L9",
        "outputId": "8c747b1a-df09-426b-bb5d-e91f2465f783"
      },
      "outputs": [],
      "source": [
        "sales[sales['sales']>2000000].head(20)"
      ]
    },
    {
      "cell_type": "code",
      "execution_count": null,
      "metadata": {
        "colab": {
          "base_uri": "https://localhost:8080/"
        },
        "id": "H6m_QbZoylSp",
        "outputId": "86c21f66-2c44-45e2-a323-066a1b502b2a"
      },
      "outputs": [],
      "source": [
        "sales.info()"
      ]
    },
    {
      "cell_type": "code",
      "execution_count": null,
      "metadata": {
        "id": "yRo-W_v6yzjJ"
      },
      "outputs": [],
      "source": [
        "affordable=sales[sales['price']<500]"
      ]
    },
    {
      "cell_type": "code",
      "execution_count": null,
      "metadata": {
        "id": "JUbsYzvm8eLz"
      },
      "outputs": [],
      "source": [
        "expensive=sales[sales['price']>=1000]"
      ]
    },
    {
      "cell_type": "code",
      "execution_count": null,
      "metadata": {
        "colab": {
          "base_uri": "https://localhost:8080/",
          "height": 678
        },
        "id": "qKbPwubl8lxc",
        "outputId": "9a73aeae-a323-4cbb-d165-237f1fd84b10"
      },
      "outputs": [],
      "source": [
        "expensive[expensive['masterCategory']=='Apparel']"
      ]
    },
    {
      "cell_type": "code",
      "execution_count": null,
      "metadata": {
        "id": "cDw89mLg4fTP"
      },
      "outputs": [],
      "source": [
        "midtier=sales[sales['price']<1000]\n"
      ]
    },
    {
      "cell_type": "code",
      "execution_count": null,
      "metadata": {
        "colab": {
          "base_uri": "https://localhost:8080/"
        },
        "id": "oM_3NQhr5SGz",
        "outputId": "01440e30-0cbf-4f46-c814-1d15ee2de42a"
      },
      "outputs": [],
      "source": [
        "mid=midtier[sales['price']>500]"
      ]
    },
    {
      "cell_type": "code",
      "execution_count": null,
      "metadata": {
        "colab": {
          "base_uri": "https://localhost:8080/",
          "height": 1000
        },
        "id": "r0nbJRop5aA2",
        "outputId": "6bfe109e-daf0-4f85-f296-f617611ebf5c"
      },
      "outputs": [],
      "source": [
        "mid.head(30)"
      ]
    },
    {
      "cell_type": "code",
      "execution_count": null,
      "metadata": {
        "id": "ox4fVs5kzqVQ"
      },
      "outputs": [],
      "source": [
        "uni=expensive[expensive['gender']=='Unisex']"
      ]
    },
    {
      "cell_type": "code",
      "execution_count": null,
      "metadata": {
        "colab": {
          "base_uri": "https://localhost:8080/",
          "height": 650
        },
        "id": "CTuqmLV6VP81",
        "outputId": "478acc92-f295-4da0-d225-1c0690e14ddc"
      },
      "outputs": [],
      "source": [
        "uni.head(10)"
      ]
    },
    {
      "cell_type": "code",
      "execution_count": null,
      "metadata": {
        "colab": {
          "base_uri": "https://localhost:8080/",
          "height": 49
        },
        "id": "5X0-5QXoLMsj",
        "outputId": "527d6cbc-72c0-4011-9351-4c4650ec4d63"
      },
      "outputs": [],
      "source": [
        "uni[uni['masterCategory']=='Free Items'].head(10)"
      ]
    },
    {
      "cell_type": "code",
      "execution_count": null,
      "metadata": {
        "colab": {
          "base_uri": "https://localhost:8080/",
          "height": 129
        },
        "id": "Bv4KmCRKz7n-",
        "outputId": "450e83b9-4a3b-4b91-cf73-df0cd2361b41"
      },
      "outputs": [],
      "source": [
        "images[images['filename']=='13841.jpg']"
      ]
    }
  ],
  "metadata": {
    "colab": {
      "collapsed_sections": [],
      "name": "Dripy Sales.ipynb",
      "provenance": []
    },
    "kernelspec": {
      "display_name": ".venv",
      "language": "python",
      "name": "python3"
    },
    "language_info": {
      "name": "python",
      "version": "3.10.11"
    }
  },
  "nbformat": 4,
  "nbformat_minor": 0
}
